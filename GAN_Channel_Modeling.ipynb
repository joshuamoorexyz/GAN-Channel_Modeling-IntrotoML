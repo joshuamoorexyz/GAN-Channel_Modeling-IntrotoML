{
 "cells": [
  {
   "cell_type": "markdown",
   "id": "b9e8e39d-2264-4f94-a3e7-c36b074880ae",
   "metadata": {},
   "source": [
    "<center><h1> CSE 4693/6693 Intro to Machine Learning </h1></center>\n",
    "\n",
    "## Project name: GAN Channel Modeling (Group 4)\n",
    "\n",
    "<div style=\"float: left; margin-right: 20px;\">\n",
    "\n",
    "| Name | NetID |\n",
    "|:-----|:------|\n",
    "| Joshua Moore | jjm702 |\n",
    "| Tirian Judy | tkj105 |\n",
    "| Claire Johnson | kj1289 |\n",
    "| Aayam Raj Shakya | as5160 |\n",
    "\n",
    "</div>"
   ]
  },
  {
   "cell_type": "markdown",
   "id": "a8e3479a-fece-4cf6-be40-a92627db8188",
   "metadata": {},
   "source": [
    "## Abstract:\n",
    "\n",
    "-------Project desc here-------"
   ]
  },
  {
   "cell_type": "code",
   "execution_count": null,
   "id": "c073aedf-e0d0-4070-8bf2-346796f94d69",
   "metadata": {},
   "outputs": [],
   "source": []
  }
 ],
 "metadata": {
  "kernelspec": {
   "display_name": "Python 3 (ipykernel)",
   "language": "python",
   "name": "python3"
  },
  "language_info": {
   "codemirror_mode": {
    "name": "ipython",
    "version": 3
   },
   "file_extension": ".py",
   "mimetype": "text/x-python",
   "name": "python",
   "nbconvert_exporter": "python",
   "pygments_lexer": "ipython3",
   "version": "3.12.5"
  }
 },
 "nbformat": 4,
 "nbformat_minor": 5
}
